{
 "cells": [
  {
   "attachments": {},
   "cell_type": "markdown",
   "metadata": {},
   "source": [
    "# Data Visualisation"
   ]
  },
  {
   "cell_type": "code",
   "execution_count": null,
   "metadata": {},
   "outputs": [],
   "source": [
    "# loda training datasets\n",
    "import pandas as pd\n",
    "df = pd.read_csv(\"./data/processed_data.csv\")\n",
    "df"
   ]
  },
  {
   "cell_type": "code",
   "execution_count": null,
   "metadata": {},
   "outputs": [],
   "source": [
    "df.columns"
   ]
  },
  {
   "attachments": {},
   "cell_type": "markdown",
   "metadata": {},
   "source": [
    "# data visualisation"
   ]
  },
  {
   "cell_type": "code",
   "execution_count": null,
   "metadata": {},
   "outputs": [],
   "source": [
    "import seaborn as sns\n",
    "import matplotlib.pyplot as plt"
   ]
  },
  {
   "cell_type": "code",
   "execution_count": null,
   "metadata": {},
   "outputs": [],
   "source": [
    "# class distributions of dataset\n",
    "sns.countplot(data=df, x='is_claim')"
   ]
  },
  {
   "cell_type": "code",
   "execution_count": null,
   "metadata": {},
   "outputs": [],
   "source": [
    "# check the engine type and number of people who claims\n",
    "\n",
    "plt.title(\"Type of engine and claiming\")\n",
    "sns.countplot(data=df, y='engine_type', hue='is_claim')\n",
    "plt.ylabel(\"type of engine\")\n",
    "plt.xlabel(\"number of claims\")"
   ]
  },
  {
   "cell_type": "code",
   "execution_count": null,
   "metadata": {},
   "outputs": [],
   "source": [
    "# type of engine and car model, is claim as the hue\n",
    "plt.title(\"count number of models that claimed\")\n",
    "sns.countplot(data=df, y=\"model\", hue=\"is_claim\")"
   ]
  },
  {
   "cell_type": "code",
   "execution_count": null,
   "metadata": {},
   "outputs": [],
   "source": [
    "# age of car and the engine type who claimed.\n",
    "plt.title(\"Car Engine Type and Age of Car, who Claimed\")\n",
    "sns.barplot(data=df, x=\"age_of_car\", y=\"engine_type\", hue=\"is_claim\")\n",
    "plt.ylabel(\"type of engine\")\n",
    "plt.xlabel(\"age of car normalised\")"
   ]
  },
  {
   "cell_type": "code",
   "execution_count": null,
   "metadata": {},
   "outputs": [],
   "source": [
    "# check people by model and age of car, who made a claim\n",
    "# car model are encoded.\n",
    "plt.title(\"Car Model By Make, That Made A Claim\")\n",
    "sns.barplot(data=df, y=\"model\", x=\"age_of_car\", hue=\"is_claim\")\n",
    "plt.ylabel(\"Car Model\")\n",
    "plt.xlabel(\"Age Of Car\")"
   ]
  },
  {
   "cell_type": "code",
   "execution_count": null,
   "metadata": {},
   "outputs": [],
   "source": [
    "# check type of fuel, type of engine, by claim.\n",
    "plt.title(\"Type Of Fuel, By Engine Type And Checking Claim\")\n",
    "sns.countplot(data=df, y=\"fuel_type\", hue=\"is_claim\")\n",
    "plt.ylabel(\"Type Of Fuel\")\n",
    "plt.xlabel(\"Number Of Policy Holder\")"
   ]
  },
  {
   "cell_type": "code",
   "execution_count": null,
   "metadata": {},
   "outputs": [],
   "source": []
  }
 ],
 "metadata": {
  "kernelspec": {
   "display_name": "claim-envs",
   "language": "python",
   "name": "python3"
  },
  "language_info": {
   "codemirror_mode": {
    "name": "ipython",
    "version": 3
   },
   "file_extension": ".py",
   "mimetype": "text/x-python",
   "name": "python",
   "nbconvert_exporter": "python",
   "pygments_lexer": "ipython3",
   "version": "3.10.7"
  },
  "orig_nbformat": 4,
  "vscode": {
   "interpreter": {
    "hash": "37f902d1d7c01adca42c0773e4b3782f93bca033ca310e8dedcc92a71a885b45"
   }
  }
 },
 "nbformat": 4,
 "nbformat_minor": 2
}
